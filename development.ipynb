{
 "cells": [
  {
   "cell_type": "code",
   "execution_count": 1,
   "id": "24e3d1e5-2bb5-4ad1-9b30-6e01e024d8cd",
   "metadata": {},
   "outputs": [],
   "source": [
    "import pandas as pd\n",
    "from pathlib import Path"
   ]
  },
  {
   "cell_type": "code",
   "execution_count": 2,
   "id": "af4d9776-f49d-434d-9da8-890e424e480a",
   "metadata": {},
   "outputs": [],
   "source": [
    "FILE_PATH = Path('data').joinpath('STO Report 01.09.21-19.12.21.XLSX')"
   ]
  },
  {
   "cell_type": "code",
   "execution_count": 5,
   "id": "b42b2359-5ba2-4b4e-9531-cb0f2aad67f0",
   "metadata": {},
   "outputs": [
    {
     "data": {
      "text/plain": [
       "WindowsPath('data/STO Report 01.09.21-19.12.21.XLSX')"
      ]
     },
     "execution_count": 5,
     "metadata": {},
     "output_type": "execute_result"
    }
   ],
   "source": [
    "FILE_PATH"
   ]
  },
  {
   "cell_type": "code",
   "execution_count": 19,
   "id": "990ec983-4214-4a2f-9922-4d4bc91cd2f3",
   "metadata": {},
   "outputs": [],
   "source": [
    "REQUIRED_COLUMNS = [\n",
    "    'STO No.', 'STO Status', 'Receiving Plant', \n",
    "    'Item Description', 'Item SKU Qty', 'SKU UoM', \n",
    "    'Delivery No', 'PGI Quantity', 'PGI UoM','PGI Date'\n",
    "]\n",
    "\n",
    "COLUMN_CLEANED = [item.lower().replace(\" \", \"_\").replace(\".\", \"\").replace(\"/\", \"\") for item in REQUIRED_COLUMNS]\n",
    "\n",
    "COLUMN_SCHEMA = dict(zip(REQUIRED_COLUMNS, COLUMN_CLEANED))\n",
    "\n",
    "WEEKLY_RPD_REQUIRED_COLUMNS = ['STO No.', 'Item', 'Quantity (kg)', 'Production', 'FG']\n",
    "\n",
    "WEEKLY_RPD_REQUIRED_COLUMNS_CLEANED = [\n",
    "    item.lower()\n",
    "    .replace(\" \", \"_\")\n",
    "    .replace(\".\", \"\")\n",
    "    .replace(\"/\", \"\")\n",
    "    .replace(\"(\", \"\")\n",
    "    .replace(\")\", \"\")\n",
    "    \n",
    "    for item in WEEKLY_RPD_REQUIRED_COLUMNS\n",
    "]\n",
    "\n",
    "WEEKLY_PRD_SCHEMA = dict(zip(WEEKLY_RPD_REQUIRED_COLUMNS, WEEKLY_RPD_REQUIRED_COLUMNS_CLEANED))"
   ]
  },
  {
   "cell_type": "code",
   "execution_count": 4,
   "id": "fd027abc-aaff-46ad-b439-6c68ee370658",
   "metadata": {},
   "outputs": [],
   "source": [
    "# temp_df = pd.read_excel(FILE_PATH, sheet_name=\"Weekly Prod. Sche. 12.12-18.12\", skiprows=2)"
   ]
  },
  {
   "cell_type": "code",
   "execution_count": 6,
   "id": "03f5516a-f6dc-417f-88bf-0542b8246a8f",
   "metadata": {},
   "outputs": [],
   "source": [
    "def read_to_dataframe(\n",
    "    path: str, \n",
    "    required_column: list, \n",
    "    column_schema: dict, \n",
    "    sheet_name: str\n",
    ") -> pd.DataFrame:\n",
    "    df = pd.read_excel(path, sheet_name=sheet_name)\n",
    "    df = df[required_column]\n",
    "    df = df.rename(columns=column_schema)\n",
    "    df = df[(~df[\"sto_no\"].isnull()) & (~df.item_description.isnull()) & (~df.receiving_plant.isnull())]\n",
    "    return df"
   ]
  },
  {
   "cell_type": "code",
   "execution_count": 38,
   "id": "a720475d-57e9-40ea-9227-f159f4b9944d",
   "metadata": {},
   "outputs": [],
   "source": [
    "def read_weekly_prod(\n",
    "    path: str, \n",
    "    required_column: list, \n",
    "    column_schema: dict, \n",
    "    sheet_name: str,\n",
    "    skip_row=2\n",
    ") -> pd.DataFrame:\n",
    "    df = pd.read_excel(path, sheet_name=sheet_name, skiprows=skip_row)\n",
    "    df = df[required_column]\n",
    "    df = df.rename(columns=column_schema)\n",
    "    df = df[~df[\"sto_no\"].isnull()]\n",
    "    df = df[df[\"sto_no\"] != \"Total\"]\n",
    "    df[\"sto_no\"] = df[\"sto_no\"].astype(str)\n",
    "    return df"
   ]
  },
  {
   "cell_type": "code",
   "execution_count": 8,
   "id": "c8a1af99-19b1-49cb-b977-50c6e1e33a91",
   "metadata": {},
   "outputs": [],
   "source": [
    "RAW_DF = read_to_dataframe(\n",
    "    path=FILE_PATH, \n",
    "    required_column=REQUIRED_COLUMNS, \n",
    "    column_schema=COLUMN_SCHEMA, \n",
    "    sheet_name=\"Sheet1\"\n",
    ")"
   ]
  },
  {
   "cell_type": "code",
   "execution_count": 54,
   "id": "8a3b007a-e423-492d-9126-937ae6c29b0c",
   "metadata": {},
   "outputs": [],
   "source": [
    "WEEKLY_PROD = read_weekly_prod(\n",
    "    path=FILE_PATH, \n",
    "    required_column=WEEKLY_RPD_REQUIRED_COLUMNS, \n",
    "    column_schema=WEEKLY_PRD_SCHEMA, \n",
    "    sheet_name=\"Weekly Prod. Sche. 12.12-18.12\",\n",
    ")"
   ]
  },
  {
   "cell_type": "code",
   "execution_count": 55,
   "id": "623e0964-c112-467d-ab8e-e2f06517e994",
   "metadata": {},
   "outputs": [
    {
     "data": {
      "text/html": [
       "<div>\n",
       "<style scoped>\n",
       "    .dataframe tbody tr th:only-of-type {\n",
       "        vertical-align: middle;\n",
       "    }\n",
       "\n",
       "    .dataframe tbody tr th {\n",
       "        vertical-align: top;\n",
       "    }\n",
       "\n",
       "    .dataframe thead th {\n",
       "        text-align: right;\n",
       "    }\n",
       "</style>\n",
       "<table border=\"1\" class=\"dataframe\">\n",
       "  <thead>\n",
       "    <tr style=\"text-align: right;\">\n",
       "      <th></th>\n",
       "      <th>sto_no</th>\n",
       "      <th>item</th>\n",
       "      <th>quantity_kg</th>\n",
       "      <th>production</th>\n",
       "      <th>fg</th>\n",
       "    </tr>\n",
       "  </thead>\n",
       "  <tbody>\n",
       "    <tr>\n",
       "      <th>22</th>\n",
       "      <td>4500025774</td>\n",
       "      <td>Wrap-No.1 Orange Sandwch Crm Biscuit 30g</td>\n",
       "      <td>1000.0</td>\n",
       "      <td>NaN</td>\n",
       "      <td>NaN</td>\n",
       "    </tr>\n",
       "    <tr>\n",
       "      <th>23</th>\n",
       "      <td>4500025775</td>\n",
       "      <td>Wrap-No.1 Pineapple Sandwh Crm Bisct 30g</td>\n",
       "      <td>1000.0</td>\n",
       "      <td>NaN</td>\n",
       "      <td>NaN</td>\n",
       "    </tr>\n",
       "    <tr>\n",
       "      <th>24</th>\n",
       "      <td>4500025916</td>\n",
       "      <td>Wrap-Fresh Sugar Crush Biscuit 24g</td>\n",
       "      <td>2000.0</td>\n",
       "      <td>1889.0</td>\n",
       "      <td>NaN</td>\n",
       "    </tr>\n",
       "    <tr>\n",
       "      <th>25</th>\n",
       "      <td>4500025916</td>\n",
       "      <td>Wrap-Fresh Butter Bun 45g,L200XW170MM</td>\n",
       "      <td>2500.0</td>\n",
       "      <td>2116.0</td>\n",
       "      <td>NaN</td>\n",
       "    </tr>\n",
       "    <tr>\n",
       "      <th>35</th>\n",
       "      <td>4500026490</td>\n",
       "      <td>Label-Super Fresh Fort Soybean Oil 1L</td>\n",
       "      <td>1200.0</td>\n",
       "      <td>1200.0</td>\n",
       "      <td>262.0</td>\n",
       "    </tr>\n",
       "  </tbody>\n",
       "</table>\n",
       "</div>"
      ],
      "text/plain": [
       "        sto_no                                      item  quantity_kg  \\\n",
       "22  4500025774  Wrap-No.1 Orange Sandwch Crm Biscuit 30g       1000.0   \n",
       "23  4500025775  Wrap-No.1 Pineapple Sandwh Crm Bisct 30g       1000.0   \n",
       "24  4500025916        Wrap-Fresh Sugar Crush Biscuit 24g       2000.0   \n",
       "25  4500025916     Wrap-Fresh Butter Bun 45g,L200XW170MM       2500.0   \n",
       "35  4500026490     Label-Super Fresh Fort Soybean Oil 1L       1200.0   \n",
       "\n",
       "    production     fg  \n",
       "22         NaN    NaN  \n",
       "23         NaN    NaN  \n",
       "24      1889.0    NaN  \n",
       "25      2116.0    NaN  \n",
       "35      1200.0  262.0  "
      ]
     },
     "execution_count": 55,
     "metadata": {},
     "output_type": "execute_result"
    }
   ],
   "source": [
    "WEEKLY_PROD.tail()"
   ]
  },
  {
   "cell_type": "code",
   "execution_count": 44,
   "id": "6a3afd9f-ef59-4284-aa28-5385ddafb25e",
   "metadata": {},
   "outputs": [],
   "source": [
    "# for item in WEEKLY_PROD[\"sto_no\"].to_list():\n",
    "#     print(item, type(item), int(item))"
   ]
  },
  {
   "cell_type": "code",
   "execution_count": 59,
   "id": "0bc11442-5ddf-4917-9f6c-51d1b51cba7e",
   "metadata": {},
   "outputs": [],
   "source": [
    "def create_temp_sto_no(df: pd.DataFrame) -> pd.DataFrame:\n",
    "    df[\"temp\"] = df[\"sto_no\"].astype('int64').astype('str')\n",
    "    return df"
   ]
  },
  {
   "cell_type": "code",
   "execution_count": 61,
   "id": "79ec8240-f699-4d3b-b2fb-ba33749aa078",
   "metadata": {},
   "outputs": [],
   "source": [
    "def create_uid(df: pd.DataFrame, col1: str, col2: str) -> pd.DataFrame:\n",
    "    df = create_temp_sto_no(df)\n",
    "    df[\"uid\"] = df[col1] + \" \" + df[col2]\n",
    "    df = df.drop(\"temp\", axis=1)\n",
    "    return df"
   ]
  },
  {
   "cell_type": "code",
   "execution_count": 71,
   "id": "e20f961c-4cf0-4fae-9ed9-5f3f9e6d51c4",
   "metadata": {},
   "outputs": [],
   "source": [
    "def make_pgi_qty_df(df: pd.DataFrame) -> pd.DataFrame:\n",
    "    selected_columns = [\n",
    "        'sto_no', 'item_description', 'receiving_plant', \n",
    "        'delivery_no', 'pgi_date', 'pgi_quantity', 'pgi_uom'\n",
    "    ]\n",
    "    _df = df[selected_columns].copy()\n",
    "    _df = create_temp_sto_no(_df)\n",
    "    _df = create_uid(df=_df, col1=\"temp\", col2=\"item_description\")\n",
    "    new_col_list = [\n",
    "        'uid', 'sto_no', 'item_description', 'receiving_plant', \n",
    "        'delivery_no', 'pgi_date', 'pgi_quantity', 'pgi_uom'\n",
    "    ]\n",
    "    _df = _df[new_col_list]\n",
    "    return _df"
   ]
  },
  {
   "cell_type": "code",
   "execution_count": 72,
   "id": "49e17490-16c5-4e0d-b92a-201ee6cb44dc",
   "metadata": {},
   "outputs": [],
   "source": [
    "def make_weekly_prod_df(df: pd.DataFrame) -> pd.DataFrame:\n",
    "    _df = create_temp_sto_no(df)\n",
    "    _df = create_uid(_df, \"temp\", \"item\")\n",
    "    new_col_list = [\"uid\", \"sto_no\", \"item\", \"quantity_kg\", \"production\", \"fg\"]\n",
    "    _df = _df[new_col_list]\n",
    "    return _df"
   ]
  },
  {
   "cell_type": "code",
   "execution_count": 73,
   "id": "87e5c126-d152-4287-9191-478b56a26573",
   "metadata": {},
   "outputs": [],
   "source": [
    "PGI_QTY_DF = make_pgi_qty_df(RAW_DF)"
   ]
  },
  {
   "cell_type": "code",
   "execution_count": 74,
   "id": "b7369885-ed6c-4016-b73d-fcf9c37f1d5c",
   "metadata": {},
   "outputs": [],
   "source": [
    "WKL_DLV_DF = make_weekly_prod_df(WEEKLY_PROD)"
   ]
  },
  {
   "cell_type": "code",
   "execution_count": 82,
   "id": "ca1dc4ce-0cf4-4c89-b803-5f162d5c9ac6",
   "metadata": {},
   "outputs": [],
   "source": [
    "def merge_pgi_weekly(df1: pd.DataFrame, df2: pd.DataFrame, key: str, how: str):\n",
    "    _df = df1.merge(df2, on=key, how=how)\n",
    "    return _df"
   ]
  },
  {
   "cell_type": "code",
   "execution_count": 83,
   "id": "e69b6d74-635f-4824-9294-a356dc8d2a8a",
   "metadata": {},
   "outputs": [],
   "source": [
    "def has_gum_text(text: str):\n",
    "    if \"gum\" in text.lower():\n",
    "        return True\n",
    "    return False"
   ]
  },
  {
   "cell_type": "code",
   "execution_count": 81,
   "id": "c7fdaf4b-d98d-4fec-9943-fefc5f11c04e",
   "metadata": {},
   "outputs": [],
   "source": [
    "# def x_square(x):\n",
    "#     return x*2\n",
    "\n",
    "# x_square_one_line = lambda x: x*x"
   ]
  },
  {
   "cell_type": "code",
   "execution_count": 93,
   "id": "abdc0a0d-f363-4ef6-a8d1-5cf484be287b",
   "metadata": {},
   "outputs": [],
   "source": [
    "def make_summary_df(df: pd.DataFrame) -> pd.DataFrame:\n",
    "    selected_columns = [\n",
    "        \"sto_no\", \"item_description\", \n",
    "        \"receiving_plant\", \"sku_uom\", \n",
    "        \"item_sku_qty\", \"pgi_quantity\"\n",
    "    ]\n",
    "    _df = df[selected_columns]\n",
    "    _df = _df[_df[\"sku_uom\"] != \"PC\"]\n",
    "    _df = _df[~df[\"item_description\"].apply(lambda x: has_gum_text(x))]\n",
    "    _df = create_uid(df=_df, col1=\"temp\", col2=\"item_description\")\n",
    "    _df = (_df\n",
    "           .groupby([\"uid\", \"sto_no\", \"item_description\", \"receiving_plant\", \"sku_uom\", \"item_sku_qty\"])\n",
    "           .agg(pgi_quantity=(\"pgi_quantity\", \"sum\"))\n",
    "           .reset_index()\n",
    "          )\n",
    "    _df[\"pending_qty\"] = _df[\"item_sku_qty\"] - _df[\"pgi_quantity\"]\n",
    "    return _df.copy()"
   ]
  },
  {
   "cell_type": "code",
   "execution_count": 94,
   "id": "cb3ab252-bed4-4656-9fab-6b73a116e921",
   "metadata": {},
   "outputs": [
    {
     "name": "stderr",
     "output_type": "stream",
     "text": [
      "C:\\Users\\ESHAYA~1.HAS\\AppData\\Local\\Temp/ipykernel_14952/2831373945.py:9: UserWarning: Boolean Series key will be reindexed to match DataFrame index.\n",
      "  _df = _df[~df[\"item_description\"].apply(lambda x: has_gum_text(x))]\n"
     ]
    }
   ],
   "source": [
    "SUMMARY_DF = make_summary_df(RAW_DF)"
   ]
  },
  {
   "cell_type": "code",
   "execution_count": 95,
   "id": "8e0535d8-ad55-431f-88af-25e4ef0908cb",
   "metadata": {},
   "outputs": [
    {
     "data": {
      "text/html": [
       "<div>\n",
       "<style scoped>\n",
       "    .dataframe tbody tr th:only-of-type {\n",
       "        vertical-align: middle;\n",
       "    }\n",
       "\n",
       "    .dataframe tbody tr th {\n",
       "        vertical-align: top;\n",
       "    }\n",
       "\n",
       "    .dataframe thead th {\n",
       "        text-align: right;\n",
       "    }\n",
       "</style>\n",
       "<table border=\"1\" class=\"dataframe\">\n",
       "  <thead>\n",
       "    <tr style=\"text-align: right;\">\n",
       "      <th></th>\n",
       "      <th>uid</th>\n",
       "      <th>sto_no</th>\n",
       "      <th>item_description</th>\n",
       "      <th>receiving_plant</th>\n",
       "      <th>sku_uom</th>\n",
       "      <th>item_sku_qty</th>\n",
       "      <th>pgi_quantity</th>\n",
       "      <th>pending_qty</th>\n",
       "    </tr>\n",
       "  </thead>\n",
       "  <tbody>\n",
       "    <tr>\n",
       "      <th>0</th>\n",
       "      <td>4500023106 Wrapper-Fresh Refined Sugar Pouch 1KG</td>\n",
       "      <td>4.500023e+09</td>\n",
       "      <td>Wrapper-Fresh Refined Sugar Pouch 1KG</td>\n",
       "      <td>5101.0</td>\n",
       "      <td>KG</td>\n",
       "      <td>15000.0</td>\n",
       "      <td>15000</td>\n",
       "      <td>0.0</td>\n",
       "    </tr>\n",
       "    <tr>\n",
       "      <th>1</th>\n",
       "      <td>4500023106 Wrapper-Fresh Refined Sugar Pouch 500G</td>\n",
       "      <td>4.500023e+09</td>\n",
       "      <td>Wrapper-Fresh Refined Sugar Pouch 500G</td>\n",
       "      <td>5101.0</td>\n",
       "      <td>KG</td>\n",
       "      <td>1500.0</td>\n",
       "      <td>1500</td>\n",
       "      <td>0.0</td>\n",
       "    </tr>\n",
       "    <tr>\n",
       "      <th>2</th>\n",
       "      <td>4500023106 Wrapper-No.1 Refined Sugar Pouch 1KG</td>\n",
       "      <td>4.500023e+09</td>\n",
       "      <td>Wrapper-No.1 Refined Sugar Pouch 1KG</td>\n",
       "      <td>5101.0</td>\n",
       "      <td>KG</td>\n",
       "      <td>1500.0</td>\n",
       "      <td>1500</td>\n",
       "      <td>0.0</td>\n",
       "    </tr>\n",
       "    <tr>\n",
       "      <th>3</th>\n",
       "      <td>4500023106 Wrapper-No.1 Refined Sugar Pouch 500G</td>\n",
       "      <td>4.500023e+09</td>\n",
       "      <td>Wrapper-No.1 Refined Sugar Pouch 500G</td>\n",
       "      <td>5101.0</td>\n",
       "      <td>KG</td>\n",
       "      <td>500.0</td>\n",
       "      <td>488</td>\n",
       "      <td>12.0</td>\n",
       "    </tr>\n",
       "    <tr>\n",
       "      <th>4</th>\n",
       "      <td>4500023244 Wrap-No.1 Pusti Protidin Milk 15g</td>\n",
       "      <td>4.500023e+09</td>\n",
       "      <td>Wrap-No.1 Pusti Protidin Milk 15g</td>\n",
       "      <td>3001.0</td>\n",
       "      <td>KG</td>\n",
       "      <td>5100.0</td>\n",
       "      <td>5100</td>\n",
       "      <td>0.0</td>\n",
       "    </tr>\n",
       "  </tbody>\n",
       "</table>\n",
       "</div>"
      ],
      "text/plain": [
       "                                                 uid        sto_no  \\\n",
       "0   4500023106 Wrapper-Fresh Refined Sugar Pouch 1KG  4.500023e+09   \n",
       "1  4500023106 Wrapper-Fresh Refined Sugar Pouch 500G  4.500023e+09   \n",
       "2    4500023106 Wrapper-No.1 Refined Sugar Pouch 1KG  4.500023e+09   \n",
       "3   4500023106 Wrapper-No.1 Refined Sugar Pouch 500G  4.500023e+09   \n",
       "4       4500023244 Wrap-No.1 Pusti Protidin Milk 15g  4.500023e+09   \n",
       "\n",
       "                         item_description  receiving_plant sku_uom  \\\n",
       "0   Wrapper-Fresh Refined Sugar Pouch 1KG           5101.0      KG   \n",
       "1  Wrapper-Fresh Refined Sugar Pouch 500G           5101.0      KG   \n",
       "2    Wrapper-No.1 Refined Sugar Pouch 1KG           5101.0      KG   \n",
       "3   Wrapper-No.1 Refined Sugar Pouch 500G           5101.0      KG   \n",
       "4       Wrap-No.1 Pusti Protidin Milk 15g           3001.0      KG   \n",
       "\n",
       "   item_sku_qty  pgi_quantity  pending_qty  \n",
       "0       15000.0         15000          0.0  \n",
       "1        1500.0          1500          0.0  \n",
       "2        1500.0          1500          0.0  \n",
       "3         500.0           488         12.0  \n",
       "4        5100.0          5100          0.0  "
      ]
     },
     "execution_count": 95,
     "metadata": {},
     "output_type": "execute_result"
    }
   ],
   "source": [
    "SUMMARY_DF.head()"
   ]
  },
  {
   "cell_type": "code",
   "execution_count": 96,
   "id": "f9569f7a-f1cd-4936-b37c-4a11cecab526",
   "metadata": {},
   "outputs": [],
   "source": [
    "WKL_SUMM_MERGED = merge_pgi_weekly(SUMMARY_DF, WKL_DLV_DF, \"uid\", \"left\")"
   ]
  },
  {
   "cell_type": "code",
   "execution_count": 97,
   "id": "e635aace-2946-4ef9-bb16-f8d34672fe27",
   "metadata": {},
   "outputs": [
    {
     "data": {
      "text/html": [
       "<div>\n",
       "<style scoped>\n",
       "    .dataframe tbody tr th:only-of-type {\n",
       "        vertical-align: middle;\n",
       "    }\n",
       "\n",
       "    .dataframe tbody tr th {\n",
       "        vertical-align: top;\n",
       "    }\n",
       "\n",
       "    .dataframe thead th {\n",
       "        text-align: right;\n",
       "    }\n",
       "</style>\n",
       "<table border=\"1\" class=\"dataframe\">\n",
       "  <thead>\n",
       "    <tr style=\"text-align: right;\">\n",
       "      <th></th>\n",
       "      <th>uid</th>\n",
       "      <th>sto_no_x</th>\n",
       "      <th>item_description</th>\n",
       "      <th>receiving_plant</th>\n",
       "      <th>sku_uom</th>\n",
       "      <th>item_sku_qty</th>\n",
       "      <th>pgi_quantity</th>\n",
       "      <th>pending_qty</th>\n",
       "      <th>sto_no_y</th>\n",
       "      <th>item</th>\n",
       "      <th>quantity_kg</th>\n",
       "      <th>production</th>\n",
       "      <th>fg</th>\n",
       "    </tr>\n",
       "  </thead>\n",
       "  <tbody>\n",
       "    <tr>\n",
       "      <th>0</th>\n",
       "      <td>4500023106 Wrapper-Fresh Refined Sugar Pouch 1KG</td>\n",
       "      <td>4.500023e+09</td>\n",
       "      <td>Wrapper-Fresh Refined Sugar Pouch 1KG</td>\n",
       "      <td>5101.0</td>\n",
       "      <td>KG</td>\n",
       "      <td>15000.0</td>\n",
       "      <td>15000</td>\n",
       "      <td>0.0</td>\n",
       "      <td>NaN</td>\n",
       "      <td>NaN</td>\n",
       "      <td>NaN</td>\n",
       "      <td>NaN</td>\n",
       "      <td>NaN</td>\n",
       "    </tr>\n",
       "    <tr>\n",
       "      <th>1</th>\n",
       "      <td>4500023106 Wrapper-Fresh Refined Sugar Pouch 500G</td>\n",
       "      <td>4.500023e+09</td>\n",
       "      <td>Wrapper-Fresh Refined Sugar Pouch 500G</td>\n",
       "      <td>5101.0</td>\n",
       "      <td>KG</td>\n",
       "      <td>1500.0</td>\n",
       "      <td>1500</td>\n",
       "      <td>0.0</td>\n",
       "      <td>NaN</td>\n",
       "      <td>NaN</td>\n",
       "      <td>NaN</td>\n",
       "      <td>NaN</td>\n",
       "      <td>NaN</td>\n",
       "    </tr>\n",
       "    <tr>\n",
       "      <th>2</th>\n",
       "      <td>4500023106 Wrapper-No.1 Refined Sugar Pouch 1KG</td>\n",
       "      <td>4.500023e+09</td>\n",
       "      <td>Wrapper-No.1 Refined Sugar Pouch 1KG</td>\n",
       "      <td>5101.0</td>\n",
       "      <td>KG</td>\n",
       "      <td>1500.0</td>\n",
       "      <td>1500</td>\n",
       "      <td>0.0</td>\n",
       "      <td>NaN</td>\n",
       "      <td>NaN</td>\n",
       "      <td>NaN</td>\n",
       "      <td>NaN</td>\n",
       "      <td>NaN</td>\n",
       "    </tr>\n",
       "    <tr>\n",
       "      <th>3</th>\n",
       "      <td>4500023106 Wrapper-No.1 Refined Sugar Pouch 500G</td>\n",
       "      <td>4.500023e+09</td>\n",
       "      <td>Wrapper-No.1 Refined Sugar Pouch 500G</td>\n",
       "      <td>5101.0</td>\n",
       "      <td>KG</td>\n",
       "      <td>500.0</td>\n",
       "      <td>488</td>\n",
       "      <td>12.0</td>\n",
       "      <td>NaN</td>\n",
       "      <td>NaN</td>\n",
       "      <td>NaN</td>\n",
       "      <td>NaN</td>\n",
       "      <td>NaN</td>\n",
       "    </tr>\n",
       "    <tr>\n",
       "      <th>4</th>\n",
       "      <td>4500023244 Wrap-No.1 Pusti Protidin Milk 15g</td>\n",
       "      <td>4.500023e+09</td>\n",
       "      <td>Wrap-No.1 Pusti Protidin Milk 15g</td>\n",
       "      <td>3001.0</td>\n",
       "      <td>KG</td>\n",
       "      <td>5100.0</td>\n",
       "      <td>5100</td>\n",
       "      <td>0.0</td>\n",
       "      <td>NaN</td>\n",
       "      <td>NaN</td>\n",
       "      <td>NaN</td>\n",
       "      <td>NaN</td>\n",
       "      <td>NaN</td>\n",
       "    </tr>\n",
       "  </tbody>\n",
       "</table>\n",
       "</div>"
      ],
      "text/plain": [
       "                                                 uid      sto_no_x  \\\n",
       "0   4500023106 Wrapper-Fresh Refined Sugar Pouch 1KG  4.500023e+09   \n",
       "1  4500023106 Wrapper-Fresh Refined Sugar Pouch 500G  4.500023e+09   \n",
       "2    4500023106 Wrapper-No.1 Refined Sugar Pouch 1KG  4.500023e+09   \n",
       "3   4500023106 Wrapper-No.1 Refined Sugar Pouch 500G  4.500023e+09   \n",
       "4       4500023244 Wrap-No.1 Pusti Protidin Milk 15g  4.500023e+09   \n",
       "\n",
       "                         item_description  receiving_plant sku_uom  \\\n",
       "0   Wrapper-Fresh Refined Sugar Pouch 1KG           5101.0      KG   \n",
       "1  Wrapper-Fresh Refined Sugar Pouch 500G           5101.0      KG   \n",
       "2    Wrapper-No.1 Refined Sugar Pouch 1KG           5101.0      KG   \n",
       "3   Wrapper-No.1 Refined Sugar Pouch 500G           5101.0      KG   \n",
       "4       Wrap-No.1 Pusti Protidin Milk 15g           3001.0      KG   \n",
       "\n",
       "   item_sku_qty  pgi_quantity  pending_qty sto_no_y item  quantity_kg  \\\n",
       "0       15000.0         15000          0.0      NaN  NaN          NaN   \n",
       "1        1500.0          1500          0.0      NaN  NaN          NaN   \n",
       "2        1500.0          1500          0.0      NaN  NaN          NaN   \n",
       "3         500.0           488         12.0      NaN  NaN          NaN   \n",
       "4        5100.0          5100          0.0      NaN  NaN          NaN   \n",
       "\n",
       "   production  fg  \n",
       "0         NaN NaN  \n",
       "1         NaN NaN  \n",
       "2         NaN NaN  \n",
       "3         NaN NaN  \n",
       "4         NaN NaN  "
      ]
     },
     "execution_count": 97,
     "metadata": {},
     "output_type": "execute_result"
    }
   ],
   "source": [
    "WKL_SUMM_MERGED.head()"
   ]
  },
  {
   "cell_type": "code",
   "execution_count": 98,
   "id": "304a65f3-cd97-4acb-8bd0-6aa895bc5fc7",
   "metadata": {},
   "outputs": [],
   "source": [
    "WRITE_PATH = Path(\"data\").joinpath(\"merged.XLSX\")"
   ]
  },
  {
   "cell_type": "code",
   "execution_count": 99,
   "id": "f010231e-2c8e-4ff0-b281-a8052d8c1951",
   "metadata": {},
   "outputs": [],
   "source": [
    "WKL_SUMM_MERGED.to_excel(WRITE_PATH, index=False)"
   ]
  }
 ],
 "metadata": {
  "kernelspec": {
   "display_name": "Python 3 (ipykernel)",
   "language": "python",
   "name": "python3"
  },
  "language_info": {
   "codemirror_mode": {
    "name": "ipython",
    "version": 3
   },
   "file_extension": ".py",
   "mimetype": "text/x-python",
   "name": "python",
   "nbconvert_exporter": "python",
   "pygments_lexer": "ipython3",
   "version": "3.9.0"
  }
 },
 "nbformat": 4,
 "nbformat_minor": 5
}
