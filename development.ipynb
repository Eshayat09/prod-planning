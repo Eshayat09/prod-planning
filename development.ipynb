{
 "cells": [
  {
   "cell_type": "code",
   "execution_count": null,
   "id": "24e3d1e5-2bb5-4ad1-9b30-6e01e024d8cd",
   "metadata": {},
   "outputs": [],
   "source": [
    "import pandas as pd\n",
    "from pathlib import Path"
   ]
  },
  {
   "cell_type": "code",
   "execution_count": null,
   "id": "af4d9776-f49d-434d-9da8-890e424e480a",
   "metadata": {},
   "outputs": [],
   "source": [
    "FILE_PATH = Path('data').joinpath('test.XLSX')"
   ]
  },
  {
   "cell_type": "code",
   "execution_count": null,
   "id": "b42b2359-5ba2-4b4e-9531-cb0f2aad67f0",
   "metadata": {},
   "outputs": [],
   "source": [
    "FILE_PATH"
   ]
  },
  {
   "cell_type": "code",
   "execution_count": null,
   "id": "c8a1af99-19b1-49cb-b977-50c6e1e33a91",
   "metadata": {},
   "outputs": [],
   "source": [
    "raw_df = pd.read_excel(FILE_PATH)"
   ]
  },
  {
   "cell_type": "code",
   "execution_count": null,
   "id": "e635aace-2946-4ef9-bb16-f8d34672fe27",
   "metadata": {},
   "outputs": [],
   "source": [
    "raw_df.head()"
   ]
  }
 ],
 "metadata": {
  "kernelspec": {
   "display_name": "Python 3 (ipykernel)",
   "language": "python",
   "name": "python3"
  },
  "language_info": {
   "codemirror_mode": {
    "name": "ipython",
    "version": 3
   },
   "file_extension": ".py",
   "mimetype": "text/x-python",
   "name": "python",
   "nbconvert_exporter": "python",
   "pygments_lexer": "ipython3",
   "version": "3.9.0"
  }
 },
 "nbformat": 4,
 "nbformat_minor": 5
}
